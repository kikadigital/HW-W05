{
  "cells": [
    {
      "cell_type": "markdown",
      "metadata": {
        "id": "Ty-DVrJlaN1T"
      },
      "source": [
        "# Week 05"
      ]
    },
    {
      "cell_type": "markdown",
      "metadata": {
        "id": "s-e8uvrIca09"
      },
      "source": [
        "## Setup\n",
        "\n",
        "Include some helper functions and libraries"
      ]
    },
    {
      "cell_type": "code",
      "execution_count": null,
      "metadata": {
        "id": "uHIQDMJ-WTei"
      },
      "outputs": [],
      "source": [
        "!wget -q https://github.com/DM-GY-9103-2024S-R/9103-utils/raw/main/src/io_utils.py"
      ]
    },
    {
      "cell_type": "code",
      "execution_count": null,
      "metadata": {
        "id": "1gUdnPl3FkEh"
      },
      "outputs": [],
      "source": [
        "import matplotlib.pyplot as plt\n",
        "import random\n",
        "\n",
        "from io_utils import object_from_json_url"
      ]
    },
    {
      "cell_type": "markdown",
      "metadata": {
        "id": "sX5wEtIkWKhD"
      },
      "source": [
        "## Lists\n",
        "\n",
        "### Create a list from sequence of numbers\n",
        "\n",
        "<img src=\"./imgs/range.jpg\" width=\"500px\">"
      ]
    },
    {
      "cell_type": "code",
      "execution_count": null,
      "metadata": {},
      "outputs": [],
      "source": [
        "list_from_sequence = []\n",
        "\n",
        "for i in range(0, 10):\n",
        "  list_from_sequence.append(i)\n",
        "\n",
        "print(list_from_sequence)"
      ]
    },
    {
      "cell_type": "code",
      "execution_count": null,
      "metadata": {},
      "outputs": [],
      "source": [
        "# Or, even better\n",
        "list_from_sequence = list(range(0, 10))\n",
        "print(list_from_sequence)"
      ]
    },
    {
      "cell_type": "markdown",
      "metadata": {},
      "source": [
        "### List functions\n",
        "\n",
        "Members of each `list` object.\n",
        "\n",
        "<img src=\"./imgs/lists_00.jpg\" width=\"500px\">"
      ]
    },
    {
      "cell_type": "markdown",
      "metadata": {
        "id": "hBs429yN9wYE"
      },
      "source": [
        "### Create a list of 10 random numbers between 0 and 2000"
      ]
    },
    {
      "cell_type": "code",
      "execution_count": null,
      "metadata": {
        "id": "36_m35zIyN2h"
      },
      "outputs": [],
      "source": [
        "list_of_randoms = []\n",
        "\n",
        "for i in range(0, 10):\n",
        "  n = random.randint(0, 2000)\n",
        "  list_of_randoms.append(n)\n",
        "\n",
        "print(list_of_randoms, \"length: \", len(list_of_randoms))"
      ]
    },
    {
      "cell_type": "markdown",
      "metadata": {},
      "source": [
        "### Addition\n",
        "\n",
        "Besides the `append()` function we can also add elements to a list by using the `+` operator to *concatenate* two lists.\n",
        "\n",
        "And just like addition on numbers we have to assign the result to a variable in order to use it later:"
      ]
    },
    {
      "cell_type": "code",
      "execution_count": null,
      "metadata": {},
      "outputs": [],
      "source": [
        "list_of_randoms = list_of_randoms + [random.randint(0, 2000)]\n",
        "print(list_of_randoms, \"length: \", len(list_of_randoms))\n",
        "\n",
        "# Or, with the +=\n",
        "list_of_randoms += [random.randint(0, 2000), random.randint(0, 2000)]\n",
        "print(list_of_randoms, \"length: \", len(list_of_randoms))"
      ]
    },
    {
      "cell_type": "markdown",
      "metadata": {},
      "source": [
        "### Slicing\n",
        "\n",
        "Python has a built-in mechanism for getting sub-sections of a list called *slicing*.\n",
        "\n",
        "Instead of a single index, we specify two values in the square bracket, separated by a `:`, to specify where our slice starts and ends:\n",
        "\n",
        "<img src=\"./imgs/slicing.jpg\" width=\"700px\">\n",
        "\n",
        "One **VERY** important thing to remember is that the second index in the bracket is **NOT** included in the slice.\n",
        "\n",
        "And, Python being Python, it tries to be smart and keep us from unnecessary typing:\n",
        "- if the first index is blank, the slice will start at the first element \n",
        "- if the second index is blank, the slice will go until the end of the list"
      ]
    },
    {
      "cell_type": "code",
      "execution_count": null,
      "metadata": {},
      "outputs": [],
      "source": [
        "# The list\n",
        "print(list_of_randoms)\n",
        "\n",
        "# First 5 items\n",
        "print(list_of_randoms[ : 5])\n",
        "\n",
        "# Last 5 items\n",
        "print(list_of_randoms[-5 : ])\n",
        "\n",
        "# The 5 items at indexes [3] - [7]\n",
        "print(list_of_randoms[3 : 8])\n",
        "\n",
        "# The 5 items in the center\n",
        "center_index = len(list_of_randoms) // 2\n",
        "print(list_of_randoms[center_index - 2 : center_index + 3])"
      ]
    },
    {
      "cell_type": "markdown",
      "metadata": {
        "id": "8sYq0tQj6z0e"
      },
      "source": [
        "### Functions on lists\n",
        "\n",
        "These are functions that Python gives us to work on lists.\n",
        "\n",
        "<img src=\"./imgs/lists_01.jpg\" width=\"600px\">\n",
        "\n",
        "### There are functions for sorting, reversing and getting the length of a `list`:"
      ]
    },
    {
      "cell_type": "code",
      "execution_count": null,
      "metadata": {
        "id": "DJlfGTZZ6SJt"
      },
      "outputs": [],
      "source": [
        "my_sorted_list = sorted(list_of_randoms)\n",
        "\n",
        "print(my_sorted_list, \"\\nlength: \", len(my_sorted_list))"
      ]
    },
    {
      "cell_type": "code",
      "execution_count": null,
      "metadata": {},
      "outputs": [],
      "source": [
        "my_reversed_sorted_list = list(reversed(sorted(list_of_randoms)))\n",
        "\n",
        "print(my_reversed_sorted_list, \"\\nlength: \", len(my_reversed_sorted_list))"
      ]
    },
    {
      "cell_type": "markdown",
      "metadata": {
        "id": "zIJjJ8rx_W8s"
      },
      "source": [
        "### Sort & Slice\n",
        "\n",
        "With a sorted list we can use slice indexing to get its $5$ smallest and $5$ largest elements:"
      ]
    },
    {
      "cell_type": "code",
      "execution_count": null,
      "metadata": {
        "id": "ytoCAy4p_dCZ"
      },
      "outputs": [],
      "source": [
        "print(my_sorted_list[ : 5])\n",
        "print(my_sorted_list[-5 : ])"
      ]
    },
    {
      "cell_type": "markdown",
      "metadata": {
        "id": "tEQUt3lwY2xE"
      },
      "source": [
        "## Objects/Dictionaries"
      ]
    },
    {
      "cell_type": "markdown",
      "metadata": {
        "id": "QSodBdxw0byR"
      },
      "source": [
        "### Creating objects"
      ]
    },
    {
      "cell_type": "code",
      "execution_count": null,
      "metadata": {
        "id": "Hukt4YNv0avQ"
      },
      "outputs": [],
      "source": [
        "my_info = {\n",
        "  \"name\": \"thiago\",\n",
        "  \"id\": 8114,\n",
        "  \"zip\": 11001,\n",
        "  \"grades\": [90, 80, 60],\n",
        "  \"attendance\": [True, True, False, True, True],\n",
        "  \"final grade\": \"A\"\n",
        "}\n",
        "\n",
        "my_info"
      ]
    },
    {
      "cell_type": "markdown",
      "metadata": {
        "id": "k2sCp_La1PiP"
      },
      "source": [
        "### Iterating over key/values\n",
        "\n",
        "<img src=\"./imgs/objects.jpg\" width=\"500px\">"
      ]
    },
    {
      "cell_type": "code",
      "execution_count": null,
      "metadata": {},
      "outputs": [],
      "source": [
        "print(\"Iterate Keys:\")\n",
        "for key in my_info.keys():\n",
        "  print(\"key:\", key)\n",
        "\n",
        "print(\"\\nIterate Values:\")\n",
        "for val in my_info.values():\n",
        "  print(\"value:\", val)"
      ]
    },
    {
      "cell_type": "code",
      "execution_count": null,
      "metadata": {
        "id": "Mkw7MQWg1SYW"
      },
      "outputs": [],
      "source": [
        "print(\"Iterate Keys and Values:\")\n",
        "for key, val in my_info.items():\n",
        "  print(\"key\", key, \"has value\", val)"
      ]
    },
    {
      "cell_type": "markdown",
      "metadata": {
        "id": "RJog1ZUU1kqO"
      },
      "source": [
        "### Accessing values at specific keys"
      ]
    },
    {
      "cell_type": "code",
      "execution_count": null,
      "metadata": {
        "id": "xvoyXmaJ1jtp"
      },
      "outputs": [],
      "source": [
        "my_grades = my_info[\"grades\"]\n",
        "print(my_grades)"
      ]
    },
    {
      "cell_type": "code",
      "execution_count": null,
      "metadata": {
        "id": "oJFC6YXM1zXp"
      },
      "outputs": [],
      "source": [
        "# Sum grades\n",
        "sum_grades = sum(my_grades)\n",
        "print(sum_grades)"
      ]
    },
    {
      "cell_type": "markdown",
      "metadata": {},
      "source": [
        "### Average\n",
        "\n",
        "<img src=\"./imgs/average_00.jpg\" width=\"500px\">\n",
        "\n",
        "<img src=\"./imgs/average_01.jpg\" width=\"500px\">"
      ]
    },
    {
      "cell_type": "code",
      "execution_count": null,
      "metadata": {},
      "outputs": [],
      "source": [
        "# Average grade\n",
        "\n",
        "my_grades = my_info[\"grades\"]\n",
        "print(my_grades)\n",
        "\n",
        "my_grades_average = sum(my_grades) / len(my_grades)\n",
        "print(my_grades_average)"
      ]
    },
    {
      "cell_type": "code",
      "execution_count": null,
      "metadata": {
        "id": "_RdS3XvI11jv"
      },
      "outputs": [],
      "source": [
        "# Average attendance\n",
        "\n",
        "my_attendance = my_info[\"attendance\"]\n",
        "print(my_attendance)\n",
        "\n",
        "my_attendance_average = sum(my_attendance) / len(my_attendance)\n",
        "print(my_attendance_average)"
      ]
    },
    {
      "cell_type": "markdown",
      "metadata": {
        "id": "YIV3UD4N7rvd"
      },
      "source": [
        "### List of objects\n",
        "\n",
        "Creating a list of 10 objects with random heights and brooklyn zip codes."
      ]
    },
    {
      "cell_type": "code",
      "execution_count": null,
      "metadata": {
        "id": "JZ0HeNOh7xRY"
      },
      "outputs": [],
      "source": [
        "my_data = []\n",
        "\n",
        "for c in range(0, 10):\n",
        "  my_object = {\n",
        "    \"height\": random.randint(60, 70),\n",
        "    \"zip\": random.randint(11200, 11240)\n",
        "  }\n",
        "\n",
        "  my_data.append(my_object)\n",
        "\n",
        "for d in my_data:\n",
        "  print(d)"
      ]
    },
    {
      "cell_type": "markdown",
      "metadata": {
        "id": "6MN8kSsb-Wuf"
      },
      "source": [
        "### Get list of all heights"
      ]
    },
    {
      "cell_type": "code",
      "execution_count": null,
      "metadata": {
        "id": "lwYlxres-da4"
      },
      "outputs": [],
      "source": [
        "heights = []\n",
        "\n",
        "for d in my_data:\n",
        "  # TODO\n",
        "  heights.append(d[\"height\"])\n",
        "\n",
        "heights"
      ]
    },
    {
      "cell_type": "markdown",
      "metadata": {
        "id": "JZGXUIl5_Ul5"
      },
      "source": [
        "### Sort by key values\n",
        "\n",
        "For example, sort objects by zip code.\n",
        "\n",
        "We could first get all the zip codes and then sort the new list:"
      ]
    },
    {
      "cell_type": "code",
      "execution_count": null,
      "metadata": {
        "id": "xUUNiR8hBxN5"
      },
      "outputs": [],
      "source": [
        "zips = []\n",
        "\n",
        "for d in my_data:\n",
        "  zips.append(d[\"zip\"])\n",
        "\n",
        "print(\"original:\")\n",
        "print(zips)\n",
        "\n",
        "by_zip = sorted(zips)\n",
        "\n",
        "print(\"sorted:\")\n",
        "print(by_zip)"
      ]
    },
    {
      "cell_type": "markdown",
      "metadata": {
        "id": "HVOTC9lmBxtm"
      },
      "source": [
        "### But now we don't have the associated heights with each zip code.\n",
        "\n",
        "We want to sort the list while keeping the objects together.\n",
        "\n",
        "Would be nice to be able to do something like this, just like with a `list`:"
      ]
    },
    {
      "cell_type": "code",
      "execution_count": null,
      "metadata": {
        "id": "cRGTCxnx_ag2"
      },
      "outputs": [],
      "source": [
        "by_zip = sorted(my_data)\n",
        "print(by_zip)"
      ]
    },
    {
      "cell_type": "markdown",
      "metadata": {
        "id": "v8k00TxzBXBz"
      },
      "source": [
        "### Sorting Objects\n",
        "\n",
        "For lists of objects we have to tell python which values to compare to determine their order.\n",
        "\n",
        "We do this by defining a key function.\n",
        "\n",
        "<img src=\"./imgs/list_of_objects.jpg\" width=\"620px\">"
      ]
    },
    {
      "cell_type": "code",
      "execution_count": null,
      "metadata": {
        "id": "9h0l5lOK_mdd"
      },
      "outputs": [],
      "source": [
        "def zipKey(A):\n",
        "  return A[\"zip\"]\n",
        "\n",
        "by_zip = sorted(my_data, key=zipKey)\n",
        "\n",
        "by_zip"
      ]
    },
    {
      "cell_type": "code",
      "execution_count": null,
      "metadata": {
        "id": "VEyQWqasBnRK"
      },
      "outputs": [],
      "source": [
        "# TODO: sort by height\n",
        "def heightKey(A):\n",
        "  return A[\"height\"]\n",
        "\n",
        "by_height = sorted(my_data, key=heightKey)\n",
        "\n",
        "by_height"
      ]
    },
    {
      "cell_type": "markdown",
      "metadata": {
        "id": "WSRlUNN3CNTA"
      },
      "source": [
        "### Min/Max functions also work with key argument"
      ]
    },
    {
      "cell_type": "code",
      "execution_count": null,
      "metadata": {
        "id": "9xq_M_l4CbcH"
      },
      "outputs": [],
      "source": [
        "max_by_zip = max(my_data, key=zipKey)\n",
        "\n",
        "print(max_by_zip)\n",
        "\n",
        "min_by_height = min(my_data, key=zipKey)\n",
        "\n",
        "print(min_by_height)"
      ]
    },
    {
      "cell_type": "markdown",
      "metadata": {
        "id": "1TXg7A_icYXE"
      },
      "source": [
        "## Bigger Lists"
      ]
    },
    {
      "cell_type": "code",
      "execution_count": null,
      "metadata": {
        "id": "M2MhJi4pcoKv"
      },
      "outputs": [],
      "source": [
        "HEIGHT_FILE = \"https://raw.githubusercontent.com/DM-GY-9103-2024S-R/9103-utils/main/datasets/json/ansur_height.json\"\n",
        "\n",
        "# Use the object_from_json_url() function to get the contents\n",
        "# from the json file into a Python object called \"heights\"\n",
        "\n",
        "heights = object_from_json_url(HEIGHT_FILE)\n",
        "\n",
        "# TODO: look at the data\n",
        "\n",
        "# Answer the following:\n",
        "#   - how many items ?\n",
        "#   - what's the biggest height ?\n",
        "#   - what's the smallest height ?\n",
        "#   - what's the average height ?"
      ]
    },
    {
      "cell_type": "code",
      "execution_count": null,
      "metadata": {},
      "outputs": [],
      "source": [
        "# number of items\n",
        "len(heights)"
      ]
    },
    {
      "cell_type": "code",
      "execution_count": null,
      "metadata": {},
      "outputs": [],
      "source": [
        "# smallest and largest\n",
        "min(heights), max(heights)"
      ]
    },
    {
      "cell_type": "code",
      "execution_count": null,
      "metadata": {},
      "outputs": [],
      "source": [
        "# average\n",
        "sum(heights) / len(heights)"
      ]
    },
    {
      "cell_type": "code",
      "execution_count": null,
      "metadata": {
        "id": "dyvLoSIGnecd"
      },
      "outputs": [],
      "source": [
        "WEIGHT_FILE = \"https://raw.githubusercontent.com/DM-GY-9103-2024S-R/9103-utils/main/datasets/json/ansur_weight.json\"\n",
        "weights = object_from_json_url(WEIGHT_FILE)\n",
        "\n",
        "# TODO: look at the data\n",
        "\n",
        "# Answer the following:\n",
        "#   - how many items ?\n",
        "#   - what's the biggest ?\n",
        "#   - what's the smallest ?\n",
        "#   - what's the average ?\n",
        "\n",
        "num_items = len(weights)\n",
        "max_weight = max(weights)\n",
        "min_weight = min(weights)\n",
        "avg_weight = sum(weights) / len(weights)\n",
        "\n",
        "num_items, min_weight, max_weight, avg_weight"
      ]
    },
    {
      "cell_type": "code",
      "execution_count": null,
      "metadata": {},
      "outputs": [],
      "source": [
        "AHW_FILE = \"https://raw.githubusercontent.com/DM-GY-9103-2024S-R/9103-utils/main/datasets/json/ansur_age_height_weight.json\"\n",
        "ahws = object_from_json_url(AHW_FILE)\n",
        "\n",
        "# TODO: look at the data\n",
        "\n",
        "# Answer the following:\n",
        "#   - how many items ?\n",
        "#   - how is this data different than the others ?\n",
        "#   - what's the biggest age ?\n",
        "#   - what's the smallest age ?\n",
        "#   - what's the average age ?\n",
        "#   - how do we access the height of a person ?\n",
        "#   - how do we get all of the heights ?\n",
        "\n",
        "num_items = len(ahws)\n",
        "\n",
        "# age statistics\n",
        "def ageKey(A):\n",
        "  return A[0]\n",
        "\n",
        "sorted_age = sorted(ahws, key=ageKey)\n",
        "\n",
        "max_age = sorted_age[-1][0]\n",
        "min_age = sorted_age[0][0]\n",
        "\n",
        "# all ages\n",
        "ages = []\n",
        "for p in ahws:\n",
        "  ages.append(p[0])\n",
        "\n",
        "avg_age = sum(ages) / len(ages)\n",
        "\n",
        "# all heights\n",
        "heights = []\n",
        "for p in ahws:\n",
        "  heights.append(p[1])\n",
        "\n",
        "\n",
        "ahws[:5], num_items, min_age, max_age, avg_age, ahws[0][1], heights[:3]"
      ]
    },
    {
      "cell_type": "markdown",
      "metadata": {},
      "source": [
        "## List of Lists\n",
        "\n",
        "Just like we can put lists inside objects, we can also put lists inside lists.\n",
        "\n",
        "If we want to get to a particular value we have to use $2$ indices instead of using just one:\n",
        "`list[i][j]`\n",
        "\n",
        "The first index tells Python which of the sub-lists we want, and the second specifies the item on that list.\n",
        "\n",
        "<img src=\"./imgs/list_of_lists_00.jpg\" width=\"700px\">\n",
        "\n",
        "<img src=\"./imgs/list_of_lists_01.jpg\" width=\"700px\">\n",
        "\n",
        "Sometimes we'll refer to the first index as the row index and the second index as the column index.\n",
        "\n",
        "That's because if we imagine our list of lists as a 2-dimensional matrix of numbers, the first index tells Python which row we want to access and the second tells which column:\n",
        "\n",
        "<img src=\"./imgs/list_of_lists_02.jpg\" width=\"700px\">\n",
        "\n",
        "<img src=\"./imgs/list_of_lists_03.jpg\" width=\"700px\">"
      ]
    },
    {
      "cell_type": "markdown",
      "metadata": {},
      "source": [
        "### Datasets\n",
        "\n",
        "We'll see this kind of structure a lot.\n",
        "\n",
        "It's very common for datasets to be organized by rows/columns, where each column specifies a different *property* (or *feature*) and each row is a different *measurement* (or *record*) of those features.\n",
        "\n",
        "In our example above, our dataset had $3$ *features* (age, height, weight), and one *record* per person.\n",
        "\n",
        "<img src=\"./imgs/datasets_00.jpg\" width=\"700px\">"
      ]
    },
    {
      "cell_type": "markdown",
      "metadata": {},
      "source": [
        "### JSON\n",
        "\n",
        "It's also common to find datasets specified in the JSON format.\n",
        "\n",
        "Instead of just being a list of lists with values, each *record* is an object that specifies the names and values of its *features*:\n",
        "\n",
        "<img src=\"./imgs/datasets_01.jpg\" width=\"700px\">\n",
        "\n",
        "There are advantages and disadvantages to each. We'll soon look at another way to organize datasets that will make it easier to go from one type to the other if we have to."
      ]
    },
    {
      "cell_type": "code",
      "execution_count": null,
      "metadata": {
        "id": "eP07D04AW4ab"
      },
      "outputs": [],
      "source": [
        "AHW_OBJ_FILE = \"https://raw.githubusercontent.com/DM-GY-9103-2024S-R/9103-utils/main/datasets/json/ansur_age_height_weight_object.json\"\n",
        "ahw_objs = object_from_json_url(AHW_OBJ_FILE)\n",
        "\n",
        "# TODO: look at the data\n",
        "\n",
        "# Answer the following:\n",
        "#   - how is this data different than the others ?\n",
        "#   - how many items ?\n",
        "#   - how do we access the height of a person ?\n",
        "\n",
        "ahw_objs[:5], len(ahw_objs), ahw_objs[0][\"height\"]"
      ]
    },
    {
      "cell_type": "code",
      "execution_count": null,
      "metadata": {
        "id": "ts0Y8VopXcK0"
      },
      "outputs": [],
      "source": [
        "# more complete json version\n",
        "\n",
        "ANSUR_OBJ_FILE = \"https://raw.githubusercontent.com/DM-GY-9103-2024S-R/9103-utils/main/datasets/json/ansur.json\"\n",
        "ansur = object_from_json_url(ANSUR_OBJ_FILE)\n",
        "\n",
        "# TODO: look at the data\n",
        "\n",
        "# Answer:\n",
        "#   - how many rows/records/items ?\n",
        "#   - how many columns/features/properties ?\n",
        "#   - what could be an interesting feature ?\n",
        "\n",
        "ansur[:3]"
      ]
    },
    {
      "cell_type": "markdown",
      "metadata": {
        "id": "57fBpk_6dsvw"
      },
      "source": [
        "## Plots\n",
        "\n",
        "We can use the [matplot](https://matplotlib.org/stable/api/pyplot_summary.html) library to visualize our data."
      ]
    },
    {
      "cell_type": "code",
      "execution_count": null,
      "metadata": {
        "id": "L2P8OQxHd2E0"
      },
      "outputs": [],
      "source": [
        "plt.plot(heights, 'bo', markersize=2)\n",
        "plt.show()"
      ]
    },
    {
      "cell_type": "code",
      "execution_count": null,
      "metadata": {
        "id": "HerDD9h0kCWN"
      },
      "outputs": [],
      "source": [
        "# TODO: plot weights\n",
        "\n",
        "plt.plot(weights, 'bo', markersize=2)\n",
        "plt.show()"
      ]
    },
    {
      "cell_type": "code",
      "execution_count": null,
      "metadata": {
        "id": "QhuUqx0Cn61r"
      },
      "outputs": [],
      "source": [
        "# TODO: plot sorted heights\n",
        "\n",
        "sorted_heights = sorted(heights)\n",
        "plt.plot(sorted_heights, 'bo', markersize=2)\n",
        "plt.show()"
      ]
    },
    {
      "cell_type": "markdown",
      "metadata": {
        "id": "DWExTIuKgWkw"
      },
      "source": [
        "## Histograms"
      ]
    },
    {
      "cell_type": "code",
      "execution_count": null,
      "metadata": {
        "id": "2Lm0SVgXd9oh"
      },
      "outputs": [],
      "source": [
        "plt.hist(heights, bins=20)\n",
        "plt.show()"
      ]
    },
    {
      "cell_type": "markdown",
      "metadata": {
        "id": "G4lJZM-HxNc3"
      },
      "source": [
        "## Correlation\n",
        "\n",
        "Measurement of how $2$ independent variables (measurements) are related to each other.\n",
        "\n",
        "<img src=\"./imgs/correlation.jpg\" width=\"800px\">\n",
        "\n",
        "They can have *positive* or *direct* correlation, if an increase in one of the variables comes with an increase in the other.\n",
        "\n",
        "They can have *negative* or *inverse* correlation if an increase in one of the variables is accompanied by a decrease in the other.\n",
        "\n",
        "Or, there can be *weak* or *NO* correlation, if a change in one variable doesn't seem to be accompanied by a change in the other."
      ]
    },
    {
      "cell_type": "code",
      "execution_count": null,
      "metadata": {
        "id": "qCp1wD28xTS3"
      },
      "outputs": [],
      "source": [
        "# TODO: get \"columns\" from the data above and plot scatter plot\n",
        "x = []\n",
        "y = []\n",
        "z = []\n",
        "\n",
        "for p in ahw_objs:\n",
        "  x.append(p[\"height\"])\n",
        "  y.append(p[\"weight\"])\n",
        "  z.append(p[\"age\"])\n",
        "\n",
        "plt.scatter(x, y, marker='o')\n",
        "plt.xlabel(\"height\")\n",
        "plt.ylabel(\"weight\")\n",
        "plt.title(\"weight x height\")\n",
        "plt.show()\n",
        "\n",
        "plt.scatter(z, x, marker='o')\n",
        "plt.xlabel(\"age\")\n",
        "plt.ylabel(\"height\")\n",
        "plt.title(\"height x age\")\n",
        "plt.show()\n",
        "\n",
        "plt.scatter(z, y, marker='o')\n",
        "plt.xlabel(\"age\")\n",
        "plt.ylabel(\"weight\")\n",
        "plt.title(\"weight x age\")\n",
        "plt.show()"
      ]
    }
  ],
  "metadata": {
    "colab": {
      "authorship_tag": "ABX9TyN3itRJuoQfk42OHwX9RKAn",
      "provenance": []
    },
    "kernelspec": {
      "display_name": "Python 3",
      "name": "python3"
    },
    "language_info": {
      "codemirror_mode": {
        "name": "ipython",
        "version": 3
      },
      "file_extension": ".py",
      "mimetype": "text/x-python",
      "name": "python",
      "nbconvert_exporter": "python",
      "pygments_lexer": "ipython3",
      "version": "3.10.13"
    }
  },
  "nbformat": 4,
  "nbformat_minor": 0
}
